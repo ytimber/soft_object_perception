{
 "cells": [
  {
   "cell_type": "markdown",
   "id": "18e7ec8a",
   "metadata": {},
   "source": [
    "Note: use `yapf -i name.py` to formulate the python code"
   ]
  },
  {
   "cell_type": "markdown",
   "id": "d54b4b5e",
   "metadata": {},
   "source": [
    "For faster compilation, use `ti.core.toggle_advanced_optimization(false)`"
   ]
  },
  {
   "cell_type": "markdown",
   "id": "25da9b76",
   "metadata": {},
   "source": [
    "# Lagrangian view versus Eular's view"
   ]
  },
  {
   "cell_type": "markdown",
   "id": "e7839844",
   "metadata": {},
   "source": [
    "Lagrangian view: sensors that move passively with the simulated material. \n",
    "\n",
    "Eular's view: Sensors are still and never move\n",
    "\n",
    "<img src=\"/Users/yutingzhang/Desktop/softness_perception/IMG_0316.PNG\">"
   ]
  },
  {
   "cell_type": "markdown",
   "id": "ba51d876",
   "metadata": {},
   "source": [
    "## Mass-spring systems\n",
    "\n",
    "Hooke's law \n",
    "$f_ij = -k(\\left\\lVert \\mathbf{X_i} - \\mathbf{X_j} \\right\\rVert_2 - l_ij)(\\hat{\\mathbf{X_i}-\\mathbf{X_j}})$\n",
    "(Note: the stiffness coefficient times the change between stretched and rest spring times the direction vector from particle i to particle j. the force experienced by one point in space)\n",
    "\n",
    "$\\mathbf{f}_i = \\sum \\limits_{j}^{j\\neq i} \\mathbf{f}_{ij}$\n",
    "(Note: sum them all up. The sum of forces experienced by one point)\n",
    "\n",
    "Newton's second law of motion\n",
    "$\\frac{\\partial \\mathbf{V}_i}{\\partial t} = \\frac{1}{m_i}\\mathbf{f}_i$\n",
    "\n",
    "$\\frac{\\partial \\mathbf{X}_i}{\\partial t} = \\mathbf{v}_i$"
   ]
  },
  {
   "cell_type": "markdown",
   "id": "ae859f41",
   "metadata": {},
   "source": [
    "## Time integration\n",
    "\n",
    "1. Forward Euler (explicit)\n",
    "\n",
    "$\\mathbf{v}_{t+1} = \\mathbf{v}_t + \\delta t \\frac{\\mathbf{f}_t}{m}$\n",
    "\n",
    "$\\mathbf{x}_{t+1} = \\mathbf{x}_t + \\delta t \\mathbf{v}_t$\n",
    "\n",
    "2. Semi-implicit Euler, symplectic Euler, explicit\n",
    "\n",
    "$\\mathbf{v}_{t+1} = \\mathbf{v}_t + \\delta t \\frac{\\mathbf{f}_t}{m}$\n",
    "\n",
    "$\\mathbf{x}_{t+1} = \\mathbf{x}_t + \\delta t \\mathbf{v}_{t+1}$"
   ]
  },
  {
   "cell_type": "markdown",
   "id": "a6372d10",
   "metadata": {},
   "source": [
    "## implementation\n",
    "Compute new velocity using $\\mathbf{v}_{t+1} = \\mathbf{v}_t + \\delta t \\frac{\\mathbf{f}_t}{m}$\n",
    "\n",
    "Collision with the ground\n",
    "\n",
    "Compute the new position using $\\mathbf{x}_{t+1} = \\mathbf{xj}_t + \\delta t \\mathbf{v}_{t+1}$\n",
    "\n",
    "#### why do we need the collision with the ground first before computing new position? \n",
    "Need to know whether the point has already gone underground or not. If so, you need to set the velocity along the y-dimension to 0. \n"
   ]
  },
  {
   "cell_type": "markdown",
   "id": "5e1a40fd",
   "metadata": {},
   "source": [
    "## Explicit vs implicit time integrators\n",
    "For explicit time integrator, future depends only on the past.\n",
    "\n",
    "For implicit time integrator, future depends on both future and past. Each time step is more expensive but time steps are larger. "
   ]
  },
  {
   "cell_type": "markdown",
   "id": "65458d8f",
   "metadata": {},
   "source": [
    "### Mass-spring systems, implicit time integration\n",
    "$\\mathbf{x}_{t+1} = \\mathbf{x}_t + \\delta t\\mathbf{v}_{t+1}$\n",
    "\n",
    "$\\mathbf{v}_{t+1} = \\mathbf{v}_t + \\delta t\\mathbf{M}^{-1} \\mathbf{f}(\\mathbf{x}_{t+1})$\n",
    "\n",
    "$\\mathbf{v}_{t+1} = \\mathbf{v}_t + \\delta t\\mathbf{M}^{-1} \\mathbf{f}(\\mathbf{x}_t + \\delta t\\mathbf{v}_{t+1})$\n",
    "\n",
    "After linearization: $\\mathbf{v}_{t+1} = \\mathbf{v}_t + \\delta t\\mathbf{M}^{-1} [\\mathbf{f}(\\mathbf{x}_t) + \\frac{\\delta \\mathbf{f}}{\\delta \\mathbf{x}}(\\mathbf{x}_t) \\delta{t}\\mathbf{v}_{t+1}]$\n",
    "\n",
    "After cleaning up: $[\\mathbf{I} - \\delta t^{2}\\mathbf{M}^{-1}\\frac{\\delta \\mathbf{f}}{\\delta \\mathbf{x}}(\\mathbf{x}_t)] \\mathbf{v}_{t+1} = \\mathbf{v}_t + \\delta t \\mathbf{M}^{-1}\\mathbf{f}(\\mathbf{x}_t)$\n",
    "\n",
    "##### Combining everything together, we get an unifying explicit and implict integrators\n",
    "$[\\mathbf{I} - \\beta \\delta t^{2}\\mathbf{M}^{-1}\\frac{\\delta \\mathbf{f}}{\\delta \\mathbf{x}}(\\mathbf{x}_t)] \\mathbf{v}_{t+1} = \\mathbf{v}_t + \\delta t \\mathbf{M}^{-1}\\mathbf{f}(\\mathbf{x}_t)$\n",
    "\n",
    "when $\\beta = 0$, forward/semi implicit Euler. \n",
    "\n",
    "when $\\beta = 0.5$, middle-point. \n",
    "\n",
    "when $\\beta = 1$, backward Euler. \n"
   ]
  },
  {
   "cell_type": "markdown",
   "id": "6e158ce5",
   "metadata": {},
   "source": [
    "## Smooth particle hydrodynamics\n",
    "We use particles carrying samples of physical quantities and a kernel function W to approximate continuous fields. It's more like a weighted equation. \n",
    "\n",
    "$\\mathbf{A}(\\mathbf{x}) = \\sum\\limits_{i}\\mathbf{A}_i\\frac{m_i}{\\mathbf{\\rho}_i}\\mathbf{W}(\\left\\lVert \\mathbf{X} - \\mathbf{X_j} \\right\\rVert_2, h)$\n",
    "\n",
    "Usually people use weakly compressible SPH to approximate SPH\n",
    "\n",
    "Momentum equation:\n",
    "\n",
    "$\\frac{D\\mathbf{v}}{Dt} = -\\frac{1}{\\mathbf{\\rho}}\\nabla p + \\mathbf{g}$\n",
    "(Note: D represents the material derivative, gradient of pressue divided by the density represents accelaration. The pressure is calculated as $p = B((\\frac{\\rho}{\\rho_p})^\\gamma)-1$, which suggests that the higher the density is, the higher the pressure is. $B$ is bulk modulus)\n",
    "\n",
    "$\\mathbf{A}(\\mathbf{x}) = \\sum\\limits_{i}\\mathbf{A}_i\\frac{m_i}{\\mathbf{\\rho}_i}\\mathbf{W}(\\left\\lVert \\mathbf{X} - \\mathbf{X_j} \\right\\rVert_2, h)$ and $\\mathbf{\\rho}_i = \\sum\\limits_{i}m_j\\mathbf{W}(\\left\\lVert \\mathbf{X_i} - \\mathbf{X_j} \\right\\rVert_2,h)$. $\\rho$ equation suggests that the density of each mass point is calculated using weighted mass. "
   ]
  },
  {
   "cell_type": "markdown",
   "id": "7941ff98",
   "metadata": {},
   "source": [
    "## SPH simulation cycle\n",
    "$\\frac{D\\mathbf{v}}{Dt} = -\\frac{1}{\\mathbf{\\rho}}\\nabla p + \\mathbf{g}$\n",
    "\n",
    "$p = B((\\frac{\\rho}{\\rho_p})^\\gamma)-1$\n",
    "\n",
    "1. For each particle $i$, compute $\\mathbf{\\rho}_i = \\sum\\limits_{i}m_j\\mathbf{W}(\\left\\lVert \\mathbf{X_i} - \\mathbf{X_j} \\right\\rVert_2,h)$. Each particle doesn't carry density, but each particle carries a mass. The density is computed using the weighted summary of mass. \n",
    "\n",
    "2. For each particle $i$, compute $\\nabla p_i$ using the gradient operator. \n",
    "3. Symplectic Euler step:\n",
    "\n",
    "$\\mathbf{v}_{t+1} = \\mathbf{v}_{t} + \\delta t \\frac{D_\\mathbf{v}}{D_t}$\n",
    "\n",
    "$\\mathbf{x}_{t+1} = \\mathbf{x}_t + \\delta t \\mathbf{v}_{t+1}$"
   ]
  },
  {
   "cell_type": "markdown",
   "id": "c4f1e27e",
   "metadata": {},
   "source": [
    "## Accelerating SPH: Neighborhood search\n",
    "Per substep complexity of SPH is $O(n^2)$. \n",
    "After building a spatial data structure such as voxel grids to keep track of the particles within each spatial location, we can easily search the neighbors of specific voxels. This reduces the complexity to $O(n)$. For instance, we only need to search for the 3*3 grid around the voxel. "
   ]
  },
  {
   "cell_type": "markdown",
   "id": "e9197064",
   "metadata": {},
   "source": [
    "   "
   ]
  },
  {
   "cell_type": "markdown",
   "id": "aaec3906",
   "metadata": {},
   "source": [
    "   "
   ]
  },
  {
   "cell_type": "markdown",
   "id": "f7748a4a",
   "metadata": {},
   "source": [
    "   "
   ]
  },
  {
   "cell_type": "markdown",
   "id": "989a035f",
   "metadata": {},
   "source": [
    "## Deformation\n",
    "Deformation map $\\phi$: a (vector to vector) function that relates rest material position and deformed material position. \n",
    "\n",
    "$\\mathbf X_{deformed} = \\phi(\\mathbf X_{rest})$\n",
    "\n",
    "Deformation gradient F is defined as $\\frac{\\delta\\mathbf X_{deformed}}{\\delta\\mathbf X_{rest}}$\n",
    "\n",
    "The deformation gradient is the same regardless of the constant added at the end of the $\\mathbf X_{deformed} = \\phi(\\mathbf X_{rest})$\n",
    "\n",
    "Deform/rest volume ratio $J = det(\\mathbf F)$"
   ]
  },
  {
   "cell_type": "markdown",
   "id": "89b08b71",
   "metadata": {},
   "source": [
    "## Hyperelasticity\n",
    "What is elasticity? Elasticity is the ability of return back to the original shape. \n",
    "\n",
    "Hyperelastic materials: materials whose stress-strain relationship is defined by a strain energy density function: $\\mathbf\\psi = \\mathbf\\psi(\\mathbf F)$\n",
    "\n",
    "Intuitive understanding: $\\psi$ is a potential function that penalizes deformation. \n",
    "\n",
    "\"Stress\": the material's internal elastic forces. \n",
    "\n",
    "\"Strain\": just replace it with deformation gradient $\\mathbf F$. "
   ]
  },
  {
   "cell_type": "markdown",
   "id": "39c37bdf",
   "metadata": {},
   "source": [
    "## Stress tensor\n",
    "Stress stands for internal forces that infinitesimal material components exert on their neighborhood. \n",
    "\n",
    "Based on our need, we use different measures of stress. \n",
    "- The first Piola-Kirchhoff stress tensor (PK1): $\\mathbf P(F) = \\frac{\\delta\\psi(\\mathbf F)}{\\delta\\mathbf F}$(Note: this is in the rest space. ) \n",
    "- Kirchhoff stress $\\tau$ \n",
    "- Cauchy stress tensor: $\\sigma$ (Note: Symmetric, because of conservation of angular momentum)\n",
    "\n",
    "Relationship: $\\tau = J\\sigma = \\mathbf PF^T$,  $\\mathbf P = J\\sigma\\mathbf F^{-T}$,  Traction $t = \\sigma^Tn$"
   ]
  },
  {
   "cell_type": "markdown",
   "id": "e2ea9144",
   "metadata": {},
   "source": [
    "## Elastic moduli (isotropic materials, materials that remain the same when tested in different directions.)\n",
    "Coefficients to quantify elasticity. \n",
    "\n",
    "Young's modulus $E = \\frac{\\sigma}{\\epsilon}$\n",
    "\n",
    "Bulk modulus $K = -\\mathbf V\\frac{dP}{dV}$\n",
    "\n",
    "Poisson's ratio $\\mathbf v\\in [0.0,0.5)$\n",
    "\n",
    "\n",
    "Lamé parameters: \n",
    "\n",
    "Lamé first parameter $\\mu$\n",
    "\n",
    "Lamé second parameter $\\sigma$ (aka. shear modulus, denoted by $G$)\n",
    "\n",
    "Useful conversion between formula: \n",
    "\n",
    "$K = \\frac{E}{3(1-2v)}$,  $\\sigma = \\frac{Ev}{(1+v)(1-2v)}$, $\\mu = \\frac{E}{2(1+v)}$"
   ]
  },
  {
   "cell_type": "markdown",
   "id": "e9a21864",
   "metadata": {},
   "source": [
    "## The finite element method\n",
    "Galerkin discretization scheme that builds discrete equations using weak formulations of continuous PDEs. "
   ]
  }
 ],
 "metadata": {
  "kernelspec": {
   "display_name": "Python 3",
   "language": "python",
   "name": "python3"
  },
  "language_info": {
   "codemirror_mode": {
    "name": "ipython",
    "version": 3
   },
   "file_extension": ".py",
   "mimetype": "text/x-python",
   "name": "python",
   "nbconvert_exporter": "python",
   "pygments_lexer": "ipython3",
   "version": "3.8.8"
  }
 },
 "nbformat": 4,
 "nbformat_minor": 5
}
